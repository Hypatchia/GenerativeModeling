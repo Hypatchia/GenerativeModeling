{
  "nbformat": 4,
  "nbformat_minor": 0,
  "metadata": {
    "colab": {
      "provenance": []
    },
    "kernelspec": {
      "name": "python3",
      "display_name": "Python 3"
    },
    "language_info": {
      "name": "python"
    }
  },
  "cells": [
    {
      "cell_type": "markdown",
      "source": [
        "\n",
        "\n",
        "#### Convolutional Auto Encoder Architecture\n",
        "\n",
        "  * Technology : Keras Sequential API\n",
        "  * Suitable for Image generation\n",
        "  * Encoder \n",
        "    * Regular CNN\n",
        "      * Convolution + pooling layers \n",
        "  * Decoder\n",
        "    * Reverse CNN \n",
        "      * Transpose Conv layers + pooling Layers\n",
        "\n",
        "  * Training : Similar to a Regular Neural Network \n",
        "    * Define Model Architecture\n",
        "    * Choose **Loss** and **Optimizer**\n",
        "    * **Compile**\n",
        "    * **Fit**\n",
        "    * **Predict** \n"
      ],
      "metadata": {
        "id": "xo7bZo_0Sa76"
      }
    },
    {
      "cell_type": "code",
      "execution_count": null,
      "metadata": {
        "id": "5dQJkMAEMsnd"
      },
      "outputs": [],
      "source": [
        "# Encoder Layers\n",
        "conv_encoder = keras.models.Sequential([\n",
        " keras.layers.Reshape([28, 28, 1], input_shape=[28, 28]),\n",
        " keras.layers.Conv2D(16, kernel_size=3, padding=\"same\", activation=\"selu\"),\n",
        " keras.layers.MaxPool2D(pool_size=2),\n",
        " keras.layers.Conv2D(32, kernel_size=3, padding=\"same\", activation=\"selu\"),\n",
        " keras.layers.MaxPool2D(pool_size=2),\n",
        " keras.layers.Conv2D(64, kernel_size=3, padding=\"same\", activation=\"selu\"),\n",
        " keras.layers.MaxPool2D(pool_size=2)\n",
        "])\n"
      ]
    },
    {
      "cell_type": "code",
      "source": [
        "# Decoder Layers\n",
        "conv_decoder = keras.models.Sequential([\n",
        " keras.layers.Conv2DTranspose(32, kernel_size=3, strides=2, padding=\"valid\",\n",
        " activation=\"selu\",\n",
        " input_shape=[3, 3, 64]),\n",
        " keras.layers.Conv2DTranspose(16, kernel_size=3, strides=2, padding=\"same\",\n",
        " activation=\"selu\"),\n",
        " keras.layers.Conv2DTranspose(1, kernel_size=3, strides=2, padding=\"same\",\n",
        " activation=\"sigmoid\"),\n",
        " keras.layers.Reshape([28, 28])\n",
        "])"
      ],
      "metadata": {
        "id": "_pWvSe9kM11U"
      },
      "execution_count": null,
      "outputs": []
    },
    {
      "cell_type": "code",
      "source": [
        "# Convolutional AutoEncoder\n",
        "conv_ae = keras.models.Sequential([conv_encoder, conv_decoder])"
      ],
      "metadata": {
        "id": "6V9lpzd8NAES"
      },
      "execution_count": null,
      "outputs": []
    }
  ]
}