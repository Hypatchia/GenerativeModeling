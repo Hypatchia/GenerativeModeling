{
  "nbformat": 4,
  "nbformat_minor": 0,
  "metadata": {
    "colab": {
      "provenance": []
    },
    "kernelspec": {
      "name": "python3",
      "display_name": "Python 3"
    },
    "language_info": {
      "name": "python"
    }
  },
  "cells": [
    {
      "cell_type": "markdown",
      "source": [
        "\n",
        "\n",
        "#### Reccurent Auto Encoder Architecture\n",
        "\n",
        "  * Technology : Keras Sequential API\n",
        "  * Suitable for Text and Sequence data generation\n",
        "  * Encoder \n",
        "    * Regular RNN\n",
        "      * Sequence-to-vector RNN\n",
        "  * Decoder\n",
        "    * Reverse RNN\n",
        "      * vector-to-sequence RNN\n",
        "\n",
        "  * Training : Similar to a Regular Neural Network \n",
        "    * Define Model Architecture\n",
        "    * Choose **Loss** and **Optimizer**\n",
        "    * **Compile**\n",
        "    * **Fit**\n",
        "    * **Predict** \n"
      ],
      "metadata": {
        "id": "ktNMdxqUTokD"
      }
    },
    {
      "cell_type": "code",
      "execution_count": 1,
      "metadata": {
        "colab": {
          "base_uri": "https://localhost:8080/",
          "height": 235
        },
        "id": "EtuKKDg3M-8_",
        "outputId": "727ce39c-ff21-4da8-b982-b6a2d69b5924"
      },
      "outputs": [
        {
          "output_type": "error",
          "ename": "NameError",
          "evalue": "ignored",
          "traceback": [
            "\u001b[0;31m---------------------------------------------------------------------------\u001b[0m",
            "\u001b[0;31mNameError\u001b[0m                                 Traceback (most recent call last)",
            "\u001b[0;32m<ipython-input-1-c7a70b5b487b>\u001b[0m in \u001b[0;36m<module>\u001b[0;34m\u001b[0m\n\u001b[1;32m      1\u001b[0m \u001b[0;31m# Encoder Layers\u001b[0m\u001b[0;34m\u001b[0m\u001b[0;34m\u001b[0m\u001b[0;34m\u001b[0m\u001b[0m\n\u001b[0;32m----> 2\u001b[0;31m recurrent_encoder = keras.models.Sequential([\n\u001b[0m\u001b[1;32m      3\u001b[0m  \u001b[0mkeras\u001b[0m\u001b[0;34m.\u001b[0m\u001b[0mlayers\u001b[0m\u001b[0;34m.\u001b[0m\u001b[0mLSTM\u001b[0m\u001b[0;34m(\u001b[0m\u001b[0;36m100\u001b[0m\u001b[0;34m,\u001b[0m \u001b[0mreturn_sequences\u001b[0m\u001b[0;34m=\u001b[0m\u001b[0;32mTrue\u001b[0m\u001b[0;34m,\u001b[0m \u001b[0minput_shape\u001b[0m\u001b[0;34m=\u001b[0m\u001b[0;34m[\u001b[0m\u001b[0;32mNone\u001b[0m\u001b[0;34m,\u001b[0m \u001b[0;36m28\u001b[0m\u001b[0;34m]\u001b[0m\u001b[0;34m)\u001b[0m\u001b[0;34m,\u001b[0m\u001b[0;34m\u001b[0m\u001b[0;34m\u001b[0m\u001b[0m\n\u001b[1;32m      4\u001b[0m  \u001b[0mkeras\u001b[0m\u001b[0;34m.\u001b[0m\u001b[0mlayers\u001b[0m\u001b[0;34m.\u001b[0m\u001b[0mLSTM\u001b[0m\u001b[0;34m(\u001b[0m\u001b[0;36m30\u001b[0m\u001b[0;34m)\u001b[0m\u001b[0;34m\u001b[0m\u001b[0;34m\u001b[0m\u001b[0m\n\u001b[1;32m      5\u001b[0m ])\n",
            "\u001b[0;31mNameError\u001b[0m: name 'keras' is not defined"
          ]
        }
      ],
      "source": [
        "# Encoder Layers \n",
        "recurrent_encoder = keras.models.Sequential([\n",
        " keras.layers.LSTM(100, return_sequences=True, input_shape=[None, 28]),\n",
        " keras.layers.LSTM(30)\n",
        "])\n",
        "\n",
        "\n",
        "# Decoder Layers\n",
        "recurrent_decoder = keras.models.Sequential([\n",
        " keras.layers.RepeatVector(28, input_shape=[30]),\n",
        " keras.layers.LSTM(100, return_sequences=True),\n",
        " keras.layers.TimeDistributed(keras.layers.Dense(28, activation=\"sigmoid\"))\n",
        "])\n",
        "\n",
        "# Reccurent AutoEnoder Model\n",
        "recurrent_ae = keras.models.Sequential([recurrent_encoder, recurrent_decoder])"
      ]
    },
    {
      "cell_type": "code",
      "source": [],
      "metadata": {
        "id": "a6_VcYdoUEXw"
      },
      "execution_count": null,
      "outputs": []
    }
  ]
}