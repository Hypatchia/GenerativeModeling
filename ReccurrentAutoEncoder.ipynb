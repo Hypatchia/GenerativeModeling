{
  "cells": [
    {
      "cell_type": "markdown",
      "metadata": {
        "id": "ktNMdxqUTokD"
      },
      "source": [
        "\n",
        "\n",
        "#### Reccurent Auto Encoder Architecture\n",
        "\n",
        "  * Technology : Keras Sequential API\n",
        "  * Suitable for Text and Sequence data generation\n",
        "  * Encoder \n",
        "    * Regular RNN\n",
        "      * Sequence-to-vector RNN\n",
        "  * Decoder\n",
        "    * Reverse RNN\n",
        "      * vector-to-sequence RNN\n",
        "\n",
        "  * Training : Similar to a Regular Neural Network \n",
        "    * Define Model Architecture\n",
        "    * Choose **Loss** and **Optimizer**\n",
        "    * **Compile**\n",
        "    * **Fit**\n",
        "    * **Predict** \n"
      ]
    },
    {
      "cell_type": "code",
      "execution_count": null,
      "metadata": {
        "colab": {
          "base_uri": "https://localhost:8080/",
          "height": 235
        },
        "id": "EtuKKDg3M-8_",
        "outputId": "727ce39c-ff21-4da8-b982-b6a2d69b5924"
      },
      "outputs": [],
      "source": [
        "# Encoder Layers \n",
        "recurrent_encoder = keras.models.Sequential([\n",
        " keras.layers.LSTM(100, return_sequences=True, input_shape=[None, 28]),\n",
        " keras.layers.LSTM(30)\n",
        "])\n",
        "\n",
        "\n",
        "# Decoder Layers\n",
        "recurrent_decoder = keras.models.Sequential([\n",
        " keras.layers.RepeatVector(28, input_shape=[30]),\n",
        " keras.layers.LSTM(100, return_sequences=True),\n",
        " keras.layers.TimeDistributed(keras.layers.Dense(28, activation=\"sigmoid\"))\n",
        "])\n",
        "\n",
        "# Reccurent AutoEnoder Model\n",
        "recurrent_ae = keras.models.Sequential([recurrent_encoder, recurrent_decoder])"
      ]
    },
    {
      "cell_type": "code",
      "execution_count": null,
      "metadata": {
        "id": "a6_VcYdoUEXw"
      },
      "outputs": [],
      "source": []
    }
  ],
  "metadata": {
    "colab": {
      "provenance": []
    },
    "kernelspec": {
      "display_name": "Python 3",
      "name": "python3"
    },
    "language_info": {
      "name": "python"
    }
  },
  "nbformat": 4,
  "nbformat_minor": 0
}
